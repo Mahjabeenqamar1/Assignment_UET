{
 "cells": [
  {
   "cell_type": "code",
   "execution_count": 1,
   "metadata": {},
   "outputs": [
    {
     "name": "stdout",
     "output_type": "stream",
     "text": [
      "Collecting opencv-python\n",
      "  Downloading opencv_python-4.5.4.58-cp38-cp38-win_amd64.whl (35.1 MB)\n",
      "Requirement already satisfied: numpy>=1.17.3 in c:\\users\\meonr\\anaconda3\\lib\\site-packages (from opencv-python) (1.19.2)\n",
      "Installing collected packages: opencv-python\n",
      "Successfully installed opencv-python-4.5.4.58\n",
      "Note: you may need to restart the kernel to use updated packages.\n"
     ]
    }
   ],
   "source": [
    "pip install opencv-python"
   ]
  },
  {
   "cell_type": "code",
   "execution_count": 4,
   "metadata": {},
   "outputs": [
    {
     "name": "stdout",
     "output_type": "stream",
     "text": [
      "Requirement already satisfied: pyzbar in c:\\users\\meonr\\anaconda3\\lib\\site-packages (0.1.8)\n",
      "Requirement already satisfied: numpy in c:\\users\\meonr\\anaconda3\\lib\\site-packages (1.19.2)\n"
     ]
    }
   ],
   "source": [
    "!pip install pyzbar\n",
    "!pip install numpy\n",
    "\n"
   ]
  },
  {
   "cell_type": "code",
   "execution_count": 5,
   "metadata": {},
   "outputs": [],
   "source": [
    "import cv2\n",
    "import numpy as np\n",
    "from pyzbar.pyzbar import decode"
   ]
  },
  {
   "cell_type": "code",
   "execution_count": null,
   "metadata": {},
   "outputs": [],
   "source": [
    "cap = cv2.VideoCapture(0)\n",
    "while True:\n",
    "    ret, frame = cap.read()\n",
    "    cv2.imshow('image', frame)\n",
    "    code = cv2.waitKey(10)\n",
    "    if code == ord('q'):\n",
    "        break"
   ]
  },
  {
   "cell_type": "code",
   "execution_count": null,
   "metadata": {},
   "outputs": [],
   "source": [
    "def decoder(image):\n",
    "    gray_img = cv2.cvtColor(image,0)\n",
    "    barcode = decode(gray_img)\n",
    "\n",
    "    for obj in barcode:\n",
    "        points = obj.polygon\n",
    "        (x,y,w,h) = obj.rect\n",
    "        pts = np.array(points, np.int32)\n",
    "        pts = pts.reshape((-1, 1, 2))\n",
    "        cv2.polylines(image, [pts], True, (0, 255, 0), 3)\n",
    "\n",
    "        barcodeData = obj.data.decode(\"utf-8\")\n",
    "        barcodeType = obj.type\n",
    "        string = \"Data: \" + str(barcodeData) + \" | Type: \" + str(barcodeType)\n",
    "        \n",
    "        cv2.putText(frame, string, (x,y), cv2.FONT_HERSHEY_SIMPLEX,0.8,(0,0,255), 2)\n",
    "        print(\"Barcode: \"+barcodeData +\" | Type: \"+barcodeType)"
   ]
  },
  {
   "cell_type": "code",
   "execution_count": null,
   "metadata": {},
   "outputs": [],
   "source": [
    "import cv2\n",
    "import numpy as np\n",
    "from pyzbar.pyzbar import decode\n",
    "\n",
    "def decoder(image):\n",
    "    gray_img = cv2.cvtColor(image,0)\n",
    "    barcode = decode(gray_img)\n",
    "\n",
    "    for obj in barcode:\n",
    "        points = obj.polygon\n",
    "        (x,y,w,h) = obj.rect\n",
    "        pts = np.array(points, np.int32)\n",
    "        pts = pts.reshape((-1, 1, 2))\n",
    "        cv2.polylines(image, [pts], True, (0, 255, 0), 3)\n",
    "\n",
    "        barcodeData = obj.data.decode(\"utf-8\")\n",
    "        barcodeType = obj.type\n",
    "        string = \"Data \" + str(barcodeData) + \" | Type \" + str(barcodeType)\n",
    "        \n",
    "        cv2.putText(frame, string, (x,y), cv2.FONT_HERSHEY_SIMPLEX,0.8,(255,0,0), 2)\n",
    "        print(\"Barcode: \"+barcodeData +\" | Type: \"+barcodeType)\n",
    "\n",
    "cap = cv2.VideoCapture(0)\n",
    "while True:\n",
    "    ret, frame = cap.read()\n",
    "    decoder(frame)\n",
    "    cv2.imshow('Image', frame)\n",
    "    code = cv2.waitKey(10)\n",
    "    if code == ord('q'):\n",
    "        break"
   ]
  }
 ],
 "metadata": {
  "kernelspec": {
   "display_name": "Python 3",
   "language": "python",
   "name": "python3"
  },
  "language_info": {
   "codemirror_mode": {
    "name": "ipython",
    "version": 3
   },
   "file_extension": ".py",
   "mimetype": "text/x-python",
   "name": "python",
   "nbconvert_exporter": "python",
   "pygments_lexer": "ipython3",
   "version": "3.8.5"
  }
 },
 "nbformat": 4,
 "nbformat_minor": 4
}
