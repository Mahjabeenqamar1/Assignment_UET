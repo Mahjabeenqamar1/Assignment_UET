{
  "nbformat": 4,
  "nbformat_minor": 0,
  "metadata": {
    "colab": {
      "name": "Data_time.ipynb",
      "provenance": [],
      "authorship_tag": "ABX9TyNngGRqnzYRldF1Nm1ROLU/",
      "include_colab_link": true
    },
    "kernelspec": {
      "name": "python3",
      "display_name": "Python 3"
    },
    "language_info": {
      "name": "python"
    }
  },
  "cells": [
    {
      "cell_type": "markdown",
      "metadata": {
        "id": "view-in-github",
        "colab_type": "text"
      },
      "source": [
        "<a href=\"https://colab.research.google.com/github/Mahjabeenqamar1/Assignment_UET/blob/main/Data_time.ipynb\" target=\"_parent\"><img src=\"https://colab.research.google.com/assets/colab-badge.svg\" alt=\"Open In Colab\"/></a>"
      ]
    },
    {
      "cell_type": "code",
      "metadata": {
        "id": "taZcMELPoIIk"
      },
      "source": [
        "import numpy as np"
      ],
      "execution_count": null,
      "outputs": []
    },
    {
      "cell_type": "code",
      "metadata": {
        "id": "jqVfd2Y-oTR0"
      },
      "source": [
        "a = np.datetime64('2019-08-26')"
      ],
      "execution_count": null,
      "outputs": []
    },
    {
      "cell_type": "code",
      "metadata": {
        "colab": {
          "base_uri": "https://localhost:8080/"
        },
        "id": "Sm6_QydPo8-H",
        "outputId": "77f8ab13-653a-4c55-8e7c-42f8907d4dac"
      },
      "source": [
        "a"
      ],
      "execution_count": null,
      "outputs": [
        {
          "output_type": "execute_result",
          "data": {
            "text/plain": [
              "numpy.datetime64('2019-08-26')"
            ]
          },
          "metadata": {
            "tags": []
          },
          "execution_count": 3
        }
      ]
    },
    {
      "cell_type": "code",
      "metadata": {
        "id": "BKKFlDyxo94-"
      },
      "source": [
        "z = np.arange('2005-02', '2005-03', dtype='datetime64[D]')"
      ],
      "execution_count": null,
      "outputs": []
    },
    {
      "cell_type": "code",
      "metadata": {
        "colab": {
          "base_uri": "https://localhost:8080/"
        },
        "id": "Y8C2rDsdpdtY",
        "outputId": "8be6eb0e-ef18-49da-ca79-2b6f4693c4ca"
      },
      "source": [
        "z"
      ],
      "execution_count": null,
      "outputs": [
        {
          "output_type": "execute_result",
          "data": {
            "text/plain": [
              "array(['2005-02-01', '2005-02-02', '2005-02-03', '2005-02-04',\n",
              "       '2005-02-05', '2005-02-06', '2005-02-07', '2005-02-08',\n",
              "       '2005-02-09', '2005-02-10', '2005-02-11', '2005-02-12',\n",
              "       '2005-02-13', '2005-02-14', '2005-02-15', '2005-02-16',\n",
              "       '2005-02-17', '2005-02-18', '2005-02-19', '2005-02-20',\n",
              "       '2005-02-21', '2005-02-22', '2005-02-23', '2005-02-24',\n",
              "       '2005-02-25', '2005-02-26', '2005-02-27', '2005-02-28'],\n",
              "      dtype='datetime64[D]')"
            ]
          },
          "metadata": {
            "tags": []
          },
          "execution_count": 17
        }
      ]
    },
    {
      "cell_type": "code",
      "metadata": {
        "colab": {
          "base_uri": "https://localhost:8080/"
        },
        "id": "3ZFaZrwYpeT4",
        "outputId": "a101ca37-c68f-421c-8ff0-f6c69a06dcd8"
      },
      "source": [
        "len(z)"
      ],
      "execution_count": null,
      "outputs": [
        {
          "output_type": "execute_result",
          "data": {
            "text/plain": [
              "28"
            ]
          },
          "metadata": {
            "tags": []
          },
          "execution_count": 18
        }
      ]
    },
    {
      "cell_type": "code",
      "metadata": {
        "colab": {
          "base_uri": "https://localhost:8080/"
        },
        "id": "C51qSR8_p9oF",
        "outputId": "3aef016a-e8df-45b2-a931-5362827955d1"
      },
      "source": [
        "x = np.busday_offset('2011-03-20', 0, roll='forward')\n",
        "x"
      ],
      "execution_count": null,
      "outputs": [
        {
          "output_type": "execute_result",
          "data": {
            "text/plain": [
              "numpy.datetime64('2011-03-21')"
            ]
          },
          "metadata": {
            "tags": []
          },
          "execution_count": 20
        }
      ]
    },
    {
      "cell_type": "code",
      "metadata": {
        "id": "0di4xO_nq-wZ"
      },
      "source": [
        ""
      ],
      "execution_count": null,
      "outputs": []
    }
  ]
}