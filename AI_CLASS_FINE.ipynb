{
  "nbformat": 4,
  "nbformat_minor": 0,
  "metadata": {
    "colab": {
      "name": "AI_CLASS_FINE.ipynb",
      "provenance": [],
      "mount_file_id": "10CzDGQXO3pr33HcEoax21JXNF5YzLrec",
      "authorship_tag": "ABX9TyO7aXMmYHyxZrvgincSqe0W",
      "include_colab_link": true
    },
    "kernelspec": {
      "name": "python3",
      "display_name": "Python 3"
    },
    "language_info": {
      "name": "python"
    }
  },
  "cells": [
    {
      "cell_type": "markdown",
      "metadata": {
        "id": "view-in-github",
        "colab_type": "text"
      },
      "source": [
        "<a href=\"https://colab.research.google.com/github/Mahjabeenqamar1/Assignment_1_Numpy/blob/master/AI_CLASS_FINE.ipynb\" target=\"_parent\"><img src=\"https://colab.research.google.com/assets/colab-badge.svg\" alt=\"Open In Colab\"/></a>"
      ]
    },
    {
      "cell_type": "code",
      "metadata": {
        "colab": {
          "base_uri": "https://localhost:8080/"
        },
        "id": "QXAmq_l1j8sm",
        "outputId": "272760a9-d4b3-494a-99d5-d18cb50f2c96"
      },
      "source": [
        "import pandas as pd\n",
        "data=pd.read_csv('/content/drive/MyDrive/AI_Class_Fine - Sheet1.csv')\n",
        "x=data[['Reason']]\n",
        "print(x.shape)\n",
        "data=data[data.Reason!='late in class']\n",
        "data=data[data.Reason!='Late in class']\n",
        "s_name=data.loc[:,'Name of Student']\n",
        "s_names=[]\n",
        "for i in s_name:\n",
        "        s_names.append(i)\n",
        "finee=data.loc[:,'Fine']\n",
        "fine=[]\n",
        "for i in finee:\n",
        "        fine.append(i)\n",
        "total_fine=0\n",
        "t_fine=[]\n",
        "total_absence=[]\n",
        "student_name=[]\n",
        "i=0\n",
        "b=1\n",
        "absent=[]\n",
        "for i in range(len(s_names)):\n",
        "    a=s_names[i]\n",
        "    count = 0\n",
        "    #print(a)\n",
        "    if a not in student_name:\n",
        "            #print(\"Value of i is:\",i)\n",
        "            #print(a)\n",
        "            student_name.append(a)\n",
        "            total_fine=fine[i]\n",
        "            count=count+1\n",
        "            #print(total_fine)\n",
        "            #print(total_fine)\n",
        "            for m in range(b, len(s_names) + 1):\n",
        "                if m<len(s_names):\n",
        "                    #print(\"value of m is:\",m)\n",
        "                    if s_names[m]==a:\n",
        "                        total_fine=total_fine+fine[m]\n",
        "                        #print(total_fine)\n",
        "                        count=count+1\n",
        "                        #print(total_fine)\n",
        "            b=b+1\n",
        "            #print(\"total fine of {} is: {}\".format(a,total_fine))\n",
        "            #print(\"inner loop value is:\",b)\n",
        "            t_fine.append(total_fine)\n",
        "            absent.append(count)\n",
        "    else:\n",
        "        b = b + 1\n",
        "    #print(a)\n",
        "    #print(total_fine)\n",
        "\n",
        "for i in range(20):\n",
        "  print(t_fine[i],student_name[i],absent[i])\n",
        "#print(student_name)\n",
        "\n",
        "#combining all the colmns to form a csv file\n",
        "main_list = []\n",
        "for i in range(len(t_fine)):\n",
        "    main_list.append([student_name[i],t_fine[i],absent[i]])\n",
        "print(main_list)\n",
        "\n",
        "#creating csv file\n",
        "fine_dataset = pd.DataFrame(main_list, columns=['Student_Name', 'Total_Fine','Total_absence'])\n",
        "print(fine_dataset)\n",
        "fine_dataset.to_csv('Fine.csv')"
      ],
      "execution_count": 3,
      "outputs": [
        {
          "output_type": "stream",
          "text": [
            "(69, 1)\n",
            "300 Aroosh 3\n",
            "400 Shahan Izhar 4\n",
            "500 Mirza Usama  5\n",
            "300 Iqra Irfan 3\n",
            "300 Ammar 3\n",
            "600 Fahad Arshad 6\n",
            "400 Ayesha Amber 4\n",
            "200 Aroosh  2\n",
            "400 Daoud 4\n",
            "300 Usman Tariq 3\n",
            "100 Ammar Zahoor 1\n",
            "300 Sehrish 3\n",
            "200 Husnain Ali 2\n",
            "100 Iqra Khalil 1\n",
            "300 M.Waqas 3\n",
            "100 Rizwan 1\n",
            "100 Hassam Tahir 1\n",
            "100 Ishwa  1\n",
            "200 Mah jabeen 2\n",
            "100 Hadia Ghassan 1\n",
            "[['Aroosh', 300, 3], ['Shahan Izhar', 400, 4], ['Mirza Usama ', 500, 5], ['Iqra Irfan', 300, 3], ['Ammar', 300, 3], ['Fahad Arshad', 600, 6], ['Ayesha Amber', 400, 4], ['Aroosh ', 200, 2], ['Daoud', 400, 4], ['Usman Tariq', 300, 3], ['Ammar Zahoor', 100, 1], ['Sehrish', 300, 3], ['Husnain Ali', 200, 2], ['Iqra Khalil', 100, 1], ['M.Waqas', 300, 3], ['Rizwan', 100, 1], ['Hassam Tahir', 100, 1], ['Ishwa ', 100, 1], ['Mah jabeen', 200, 2], ['Hadia Ghassan', 100, 1], ['Ali Hamza', 100, 1]]\n",
            "     Student_Name  Total_Fine  Total_absence\n",
            "0          Aroosh         300              3\n",
            "1    Shahan Izhar         400              4\n",
            "2    Mirza Usama          500              5\n",
            "3      Iqra Irfan         300              3\n",
            "4           Ammar         300              3\n",
            "5    Fahad Arshad         600              6\n",
            "6    Ayesha Amber         400              4\n",
            "7         Aroosh          200              2\n",
            "8           Daoud         400              4\n",
            "9     Usman Tariq         300              3\n",
            "10   Ammar Zahoor         100              1\n",
            "11        Sehrish         300              3\n",
            "12    Husnain Ali         200              2\n",
            "13    Iqra Khalil         100              1\n",
            "14        M.Waqas         300              3\n",
            "15         Rizwan         100              1\n",
            "16   Hassam Tahir         100              1\n",
            "17         Ishwa          100              1\n",
            "18     Mah jabeen         200              2\n",
            "19  Hadia Ghassan         100              1\n",
            "20      Ali Hamza         100              1\n"
          ],
          "name": "stdout"
        }
      ]
    },
    {
      "cell_type": "code",
      "metadata": {
        "id": "vnB2qxqSkqRs"
      },
      "source": [
        ""
      ],
      "execution_count": null,
      "outputs": []
    }
  ]
}