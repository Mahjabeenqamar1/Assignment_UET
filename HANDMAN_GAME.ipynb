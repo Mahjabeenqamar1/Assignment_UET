{
  "nbformat": 4,
  "nbformat_minor": 0,
  "metadata": {
    "colab": {
      "name": "HANDMAN_GAME.ipynb",
      "provenance": [],
      "authorship_tag": "ABX9TyNI960gIW6bEywKidd0Rv4+",
      "include_colab_link": true
    },
    "kernelspec": {
      "name": "python3",
      "display_name": "Python 3"
    },
    "language_info": {
      "name": "python"
    }
  },
  "cells": [
    {
      "cell_type": "markdown",
      "metadata": {
        "id": "view-in-github",
        "colab_type": "text"
      },
      "source": [
        "<a href=\"https://colab.research.google.com/github/Mahjabeenqamar1/Assignment_1_Numpy/blob/master/HANDMAN_GAME.ipynb\" target=\"_parent\"><img src=\"https://colab.research.google.com/assets/colab-badge.svg\" alt=\"Open In Colab\"/></a>"
      ]
    },
    {
      "cell_type": "code",
      "metadata": {
        "colab": {
          "base_uri": "https://localhost:8080/",
          "height": 375
        },
        "id": "bEvHJaMrnWq2",
        "outputId": "8f7beb08-727e-48f2-ad68-3d1dba1d21b1"
      },
      "source": [
        "import random\n",
        "import english_words\n",
        "list=list(english_words.english_words_lower_alpha_set)\n",
        "word=[]\n",
        "print('______________________________________________________\\nLevels are:\\n\\t1. EASY\\n\\t2. Medium\\n\\t3. Hard')\n",
        "Difficulty_level=int(input('difficulty level : '))\n",
        "if Difficulty_level==1:\n",
        "    while len(word)<5 or len(word)>=7:\n",
        "        word=random.choices(list)\n",
        "        word = word[0]\n",
        "    if len(word)==5:\n",
        "        print('\\t{} _ {} _ {}'.format(word[0],word[2], word[4]))\n",
        "    elif len(word)==6:\n",
        "        print('\\t{} _ {} _ {} _'.format(word[0],word[2], word[4]))\n",
        "    else:\n",
        "        print('\\t{} _ {} _ {} _ _'.format(word[0],word[2], word[4]))\n",
        "\n",
        "elif Difficulty_level==2:\n",
        "    while len(word)<7:\n",
        "        word=random.choices(list)\n",
        "        word = word[0]\n",
        "    for i in range(len(word)):\n",
        "        if i==0:\n",
        "            print('\\t',word[i], end=' ')\n",
        "        elif i==2:\n",
        "            print(word[i], end=' ')\n",
        "        elif i==len(word)-1:\n",
        "            print('_')\n",
        "        else:\n",
        "            print('_ ', end='')\n",
        "else:\n",
        "    while len(word)<8:\n",
        "        word=random.choices(list)\n",
        "        word = word[0]\n",
        "    global case\n",
        "    case=random.randrange(0,2)\n",
        "    if case==0:\n",
        "        for i in range(len(word)):\n",
        "            if i==0:\n",
        "                print('\\t',word[i], end=' ')\n",
        "            elif i==len(word)-1:\n",
        "                print('_')\n",
        "            else:\n",
        "                print('_ ', end='')\n",
        "    else:\n",
        "        for i in range(len(word)):\n",
        "            if i==len(word)-1:\n",
        "                print('_')\n",
        "            elif i==1:\n",
        "                print('\\t_', end=' ')\n",
        "            else:\n",
        "                print('_ ', end='')\n",
        "print('Length of the word generated is \"{}\"'.format(len(word)))\n",
        "attempt=0\n",
        "while attempt<8:\n",
        "    print('___________________ATTEMPT={}__________________'.format(attempt))\n",
        "    guess = input('guess the character = ')\n",
        "    positions = []\n",
        "    if Difficulty_level==1:\n",
        "        for i in range(len(word)):\n",
        "            if i!=0 and i!=2 and i!=4:\n",
        "                positions.append(i)\n",
        "    elif Difficulty_level==2:\n",
        "        for i in range(len(word)):\n",
        "            if i!=0 and i!=2:\n",
        "                positions.append(i)\n",
        "    else:\n",
        "        for i in range(len(word)):\n",
        "            if case==0 and i==0:\n",
        "                continue\n",
        "            else:\n",
        "                list.append(i)\n",
        "                positions.append(i)\n",
        "    pos=int(input('character position{} = '.format(positions)))\n",
        "\n",
        "    if word[pos]==guess:\n",
        "        print('WIN')\n",
        "    elif attempt==7:\n",
        "        print('\\tSorry, Attempts FINISHED')\n",
        "        attempt += 1\n",
        "    else:\n",
        "        print('\\t********TRY AGAIN********')\n",
        "        attempt+=1\n",
        "print('\\tWord is= ', word)\n"
      ],
      "execution_count": 1,
      "outputs": [
        {
          "output_type": "error",
          "ename": "ModuleNotFoundError",
          "evalue": "ignored",
          "traceback": [
            "\u001b[0;31m---------------------------------------------------------------------------\u001b[0m",
            "\u001b[0;31mModuleNotFoundError\u001b[0m                       Traceback (most recent call last)",
            "\u001b[0;32m<ipython-input-1-1df09f556f5a>\u001b[0m in \u001b[0;36m<module>\u001b[0;34m()\u001b[0m\n\u001b[1;32m      1\u001b[0m \u001b[0;32mimport\u001b[0m \u001b[0mrandom\u001b[0m\u001b[0;34m\u001b[0m\u001b[0;34m\u001b[0m\u001b[0m\n\u001b[0;32m----> 2\u001b[0;31m \u001b[0;32mimport\u001b[0m \u001b[0menglish_words\u001b[0m\u001b[0;34m\u001b[0m\u001b[0;34m\u001b[0m\u001b[0m\n\u001b[0m\u001b[1;32m      3\u001b[0m \u001b[0mlist\u001b[0m\u001b[0;34m=\u001b[0m\u001b[0mlist\u001b[0m\u001b[0;34m(\u001b[0m\u001b[0menglish_words\u001b[0m\u001b[0;34m.\u001b[0m\u001b[0menglish_words_lower_alpha_set\u001b[0m\u001b[0;34m)\u001b[0m\u001b[0;34m\u001b[0m\u001b[0;34m\u001b[0m\u001b[0m\n\u001b[1;32m      4\u001b[0m \u001b[0mword\u001b[0m\u001b[0;34m=\u001b[0m\u001b[0;34m[\u001b[0m\u001b[0;34m]\u001b[0m\u001b[0;34m\u001b[0m\u001b[0;34m\u001b[0m\u001b[0m\n\u001b[1;32m      5\u001b[0m \u001b[0mprint\u001b[0m\u001b[0;34m(\u001b[0m\u001b[0;34m'______________________________________________________\\nLevels are:\\n\\t1. EASY\\n\\t2. Medium\\n\\t3. Hard'\u001b[0m\u001b[0;34m)\u001b[0m\u001b[0;34m\u001b[0m\u001b[0;34m\u001b[0m\u001b[0m\n",
            "\u001b[0;31mModuleNotFoundError\u001b[0m: No module named 'english_words'",
            "",
            "\u001b[0;31m---------------------------------------------------------------------------\u001b[0;32m\nNOTE: If your import is failing due to a missing package, you can\nmanually install dependencies using either !pip or !apt.\n\nTo view examples of installing some common dependencies, click the\n\"Open Examples\" button below.\n\u001b[0;31m---------------------------------------------------------------------------\u001b[0m\n"
          ],
          "errorDetails": {
            "actions": [
              {
                "action": "open_url",
                "actionText": "Open Examples",
                "url": "/notebooks/snippets/importing_libraries.ipynb"
              }
            ]
          }
        }
      ]
    }
  ]
}