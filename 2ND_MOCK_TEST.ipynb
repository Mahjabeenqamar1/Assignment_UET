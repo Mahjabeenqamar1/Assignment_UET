{
  "nbformat": 4,
  "nbformat_minor": 0,
  "metadata": {
    "colab": {
      "name": "2ND_MOCK_TEST.ipynb",
      "provenance": [],
      "mount_file_id": "1Pwwv3LvDOFJbhbcoidf8eX6dhYlU4iLO",
      "authorship_tag": "ABX9TyMMmFl1xA/DJgiRAE4jqgTB",
      "include_colab_link": true
    },
    "kernelspec": {
      "name": "python3",
      "display_name": "Python 3"
    },
    "language_info": {
      "name": "python"
    }
  },
  "cells": [
    {
      "cell_type": "markdown",
      "metadata": {
        "id": "view-in-github",
        "colab_type": "text"
      },
      "source": [
        "<a href=\"https://colab.research.google.com/github/Mahjabeenqamar1/Assignment_UET/blob/main/2ND_MOCK_TEST.ipynb\" target=\"_parent\"><img src=\"https://colab.research.google.com/assets/colab-badge.svg\" alt=\"Open In Colab\"/></a>"
      ]
    },
    {
      "cell_type": "code",
      "metadata": {
        "id": "blW36sEfPerh"
      },
      "source": [
        ""
      ],
      "execution_count": null,
      "outputs": []
    },
    {
      "cell_type": "markdown",
      "metadata": {
        "id": "UkFEfk1OcG5A"
      },
      "source": [
        "##Naive Bayes"
      ]
    },
    {
      "cell_type": "markdown",
      "metadata": {
        "id": "8xha9zC1TBH2"
      },
      "source": [
        "Q#1:\n",
        "you will evaluate one model on evaluation parameter"
      ]
    },
    {
      "cell_type": "code",
      "metadata": {
        "id": "f0Y1m3KXTPQv"
      },
      "source": [
        "import pandas as pd\n",
        "import numpy as np\n"
      ],
      "execution_count": null,
      "outputs": []
    },
    {
      "cell_type": "code",
      "metadata": {
        "id": "kgMS2Ro8U1Zn"
      },
      "source": [
        "data = pd.read_csv(\"/content/drive/MyDrive/Data_set/Blood/blood-train.csv\")"
      ],
      "execution_count": null,
      "outputs": []
    },
    {
      "cell_type": "code",
      "metadata": {
        "colab": {
          "base_uri": "https://localhost:8080/",
          "height": 206
        },
        "id": "DUd_gY3eVE7y",
        "outputId": "d898e583-d789-4b6a-b0fb-53fff8aa0b11"
      },
      "source": [
        "data.head()"
      ],
      "execution_count": null,
      "outputs": [
        {
          "output_type": "execute_result",
          "data": {
            "text/html": [
              "<div>\n",
              "<style scoped>\n",
              "    .dataframe tbody tr th:only-of-type {\n",
              "        vertical-align: middle;\n",
              "    }\n",
              "\n",
              "    .dataframe tbody tr th {\n",
              "        vertical-align: top;\n",
              "    }\n",
              "\n",
              "    .dataframe thead th {\n",
              "        text-align: right;\n",
              "    }\n",
              "</style>\n",
              "<table border=\"1\" class=\"dataframe\">\n",
              "  <thead>\n",
              "    <tr style=\"text-align: right;\">\n",
              "      <th></th>\n",
              "      <th>Unnamed: 0</th>\n",
              "      <th>Months since Last Donation</th>\n",
              "      <th>Number of Donations</th>\n",
              "      <th>Total Volume Donated (c.c.)</th>\n",
              "      <th>Months since First Donation</th>\n",
              "      <th>Made Donation in March 2007</th>\n",
              "    </tr>\n",
              "  </thead>\n",
              "  <tbody>\n",
              "    <tr>\n",
              "      <th>0</th>\n",
              "      <td>619</td>\n",
              "      <td>2</td>\n",
              "      <td>50</td>\n",
              "      <td>12500</td>\n",
              "      <td>98</td>\n",
              "      <td>1</td>\n",
              "    </tr>\n",
              "    <tr>\n",
              "      <th>1</th>\n",
              "      <td>664</td>\n",
              "      <td>0</td>\n",
              "      <td>13</td>\n",
              "      <td>3250</td>\n",
              "      <td>28</td>\n",
              "      <td>1</td>\n",
              "    </tr>\n",
              "    <tr>\n",
              "      <th>2</th>\n",
              "      <td>441</td>\n",
              "      <td>1</td>\n",
              "      <td>16</td>\n",
              "      <td>4000</td>\n",
              "      <td>35</td>\n",
              "      <td>1</td>\n",
              "    </tr>\n",
              "    <tr>\n",
              "      <th>3</th>\n",
              "      <td>160</td>\n",
              "      <td>2</td>\n",
              "      <td>20</td>\n",
              "      <td>5000</td>\n",
              "      <td>45</td>\n",
              "      <td>1</td>\n",
              "    </tr>\n",
              "    <tr>\n",
              "      <th>4</th>\n",
              "      <td>358</td>\n",
              "      <td>1</td>\n",
              "      <td>24</td>\n",
              "      <td>6000</td>\n",
              "      <td>77</td>\n",
              "      <td>0</td>\n",
              "    </tr>\n",
              "  </tbody>\n",
              "</table>\n",
              "</div>"
            ],
            "text/plain": [
              "   Unnamed: 0  ...  Made Donation in March 2007\n",
              "0         619  ...                            1\n",
              "1         664  ...                            1\n",
              "2         441  ...                            1\n",
              "3         160  ...                            1\n",
              "4         358  ...                            0\n",
              "\n",
              "[5 rows x 6 columns]"
            ]
          },
          "metadata": {},
          "execution_count": 39
        }
      ]
    },
    {
      "cell_type": "code",
      "metadata": {
        "colab": {
          "base_uri": "https://localhost:8080/"
        },
        "id": "z2DmKTzmXp50",
        "outputId": "72826b1e-b4ee-426f-b246-f6da6ea1e1ef"
      },
      "source": [
        "len(data)"
      ],
      "execution_count": null,
      "outputs": [
        {
          "output_type": "execute_result",
          "data": {
            "text/plain": [
              "576"
            ]
          },
          "metadata": {},
          "execution_count": 40
        }
      ]
    },
    {
      "cell_type": "code",
      "metadata": {
        "colab": {
          "base_uri": "https://localhost:8080/"
        },
        "id": "Ap0kyPFyWrFG",
        "outputId": "6d9f523b-5ccd-47a7-e6ab-5177d2f305eb"
      },
      "source": [
        "data.isnull"
      ],
      "execution_count": null,
      "outputs": [
        {
          "output_type": "execute_result",
          "data": {
            "text/plain": [
              "<bound method DataFrame.isnull of      Unnamed: 0  ...  Made Donation in March 2007\n",
              "0           619  ...                            1\n",
              "1           664  ...                            1\n",
              "2           441  ...                            1\n",
              "3           160  ...                            1\n",
              "4           358  ...                            0\n",
              "..          ...  ...                          ...\n",
              "571         698  ...                            0\n",
              "572         433  ...                            0\n",
              "573         360  ...                            0\n",
              "574         541  ...                            0\n",
              "575          74  ...                            0\n",
              "\n",
              "[576 rows x 6 columns]>"
            ]
          },
          "metadata": {},
          "execution_count": 41
        }
      ]
    },
    {
      "cell_type": "code",
      "metadata": {
        "colab": {
          "base_uri": "https://localhost:8080/"
        },
        "id": "2ym8gE8qXnfH",
        "outputId": "8e70f25c-f42d-4cbb-bfad-52ee9f1d60aa"
      },
      "source": [
        "data.drop_duplicates"
      ],
      "execution_count": null,
      "outputs": [
        {
          "output_type": "execute_result",
          "data": {
            "text/plain": [
              "<bound method DataFrame.drop_duplicates of      Unnamed: 0  ...  Made Donation in March 2007\n",
              "0           619  ...                            1\n",
              "1           664  ...                            1\n",
              "2           441  ...                            1\n",
              "3           160  ...                            1\n",
              "4           358  ...                            0\n",
              "..          ...  ...                          ...\n",
              "571         698  ...                            0\n",
              "572         433  ...                            0\n",
              "573         360  ...                            0\n",
              "574         541  ...                            0\n",
              "575          74  ...                            0\n",
              "\n",
              "[576 rows x 6 columns]>"
            ]
          },
          "metadata": {},
          "execution_count": 42
        }
      ]
    },
    {
      "cell_type": "code",
      "metadata": {
        "id": "JehSboaQX3sS"
      },
      "source": [
        "x = data.iloc[:,:-1]"
      ],
      "execution_count": null,
      "outputs": []
    },
    {
      "cell_type": "code",
      "metadata": {
        "colab": {
          "base_uri": "https://localhost:8080/"
        },
        "id": "nkEO9OheYH_u",
        "outputId": "52db71e2-70fb-4967-f350-c5bb563be10d"
      },
      "source": [
        "y = data['Made Donation in March 2007']\n",
        "y"
      ],
      "execution_count": null,
      "outputs": [
        {
          "output_type": "execute_result",
          "data": {
            "text/plain": [
              "0      1\n",
              "1      1\n",
              "2      1\n",
              "3      1\n",
              "4      0\n",
              "      ..\n",
              "571    0\n",
              "572    0\n",
              "573    0\n",
              "574    0\n",
              "575    0\n",
              "Name: Made Donation in March 2007, Length: 576, dtype: int64"
            ]
          },
          "metadata": {},
          "execution_count": 44
        }
      ]
    },
    {
      "cell_type": "code",
      "metadata": {
        "id": "KEnVrM1XYR-K"
      },
      "source": [
        "from sklearn.model_selection import train_test_split"
      ],
      "execution_count": null,
      "outputs": []
    },
    {
      "cell_type": "code",
      "metadata": {
        "id": "hdyIfQnXYVpy"
      },
      "source": [
        "x_train,x_test,y_train,y_test=train_test_split(x,y,test_size=0.20)"
      ],
      "execution_count": null,
      "outputs": []
    },
    {
      "cell_type": "code",
      "metadata": {
        "colab": {
          "base_uri": "https://localhost:8080/"
        },
        "id": "m-AKtvn0YYlo",
        "outputId": "a5afadc2-8625-470e-c6b1-4cec67d8d4be"
      },
      "source": [
        "# training the model on training set\n",
        "from sklearn.naive_bayes import GaussianNB\n",
        "gnb = GaussianNB()\n",
        "gnb.fit(x_train, y_train)"
      ],
      "execution_count": null,
      "outputs": [
        {
          "output_type": "execute_result",
          "data": {
            "text/plain": [
              "GaussianNB()"
            ]
          },
          "metadata": {},
          "execution_count": 47
        }
      ]
    },
    {
      "cell_type": "code",
      "metadata": {
        "colab": {
          "base_uri": "https://localhost:8080/"
        },
        "id": "bUX0MOB5ZEr8",
        "outputId": "374b60c1-2b41-45e1-c9a6-454ba5a13d36"
      },
      "source": [
        "# making predictions on the testing set\n",
        "y_pred = gnb.predict(x_test)\n",
        " \n",
        "# comparing actual response values (y_test) with predicted response values (y_pred)\n",
        "from sklearn import metrics\n",
        "print(\"Gaussian Naive Bayes model accuracy(in %):\", metrics.accuracy_score(y_test, y_pred)*100)"
      ],
      "execution_count": null,
      "outputs": [
        {
          "output_type": "stream",
          "name": "stdout",
          "text": [
            "Gaussian Naive Bayes model accuracy(in %): 75.86206896551724\n"
          ]
        }
      ]
    },
    {
      "cell_type": "code",
      "metadata": {
        "colab": {
          "base_uri": "https://localhost:8080/"
        },
        "id": "cGEBpU_4Zzjf",
        "outputId": "65094505-6341-4ce6-cce6-3baae7a0e7d2"
      },
      "source": [
        "from sklearn.model_selection import cross_val_score\n",
        "scores = cross_val_score(gnb, x, y, cv=20)\n",
        "print( np.mean(scores), scores)"
      ],
      "execution_count": null,
      "outputs": [
        {
          "output_type": "stream",
          "name": "stdout",
          "text": [
            "0.7465517241379309 [0.62068966 0.75862069 0.68965517 0.82758621 0.82758621 0.65517241\n",
            " 0.68965517 0.72413793 0.72413793 0.75862069 0.82758621 0.75862069\n",
            " 0.75862069 0.65517241 0.86206897 0.79310345 0.71428571 0.71428571\n",
            " 0.78571429 0.78571429]\n"
          ]
        }
      ]
    },
    {
      "cell_type": "code",
      "metadata": {
        "colab": {
          "base_uri": "https://localhost:8080/"
        },
        "id": "C-03kuleaS2j",
        "outputId": "f16f6209-5bda-481b-a54a-637a76e23923"
      },
      "source": [
        "from sklearn.metrics import make_scorer, precision_score\n",
        "precision = make_scorer(precision_score)\n",
        "accuracy = cross_val_score(gnb, x,y, cv=27,scoring=precision)\n",
        "#print( np.mean(accuracy), accuracy)\n",
        "for in range accuracy:\n",
        "  print(i)"
      ],
      "execution_count": null,
      "outputs": [
        {
          "output_type": "stream",
          "name": "stdout",
          "text": [
            "0.32905982905982906 [0.38461538 0.5        0.         0.5        1.         0.5\n",
            " 1.         0.         0.         0.         0.         0.\n",
            " 0.         1.         1.         0.         0.         0.\n",
            " 0.5        1.         1.         0.         0.         0.5\n",
            " 0.         0.         0.        ]\n"
          ]
        },
        {
          "output_type": "stream",
          "name": "stderr",
          "text": [
            "/usr/local/lib/python3.7/dist-packages/sklearn/metrics/_classification.py:1308: UndefinedMetricWarning: Precision is ill-defined and being set to 0.0 due to no predicted samples. Use `zero_division` parameter to control this behavior.\n",
            "  _warn_prf(average, modifier, msg_start, len(result))\n",
            "/usr/local/lib/python3.7/dist-packages/sklearn/metrics/_classification.py:1308: UndefinedMetricWarning: Precision is ill-defined and being set to 0.0 due to no predicted samples. Use `zero_division` parameter to control this behavior.\n",
            "  _warn_prf(average, modifier, msg_start, len(result))\n",
            "/usr/local/lib/python3.7/dist-packages/sklearn/metrics/_classification.py:1308: UndefinedMetricWarning: Precision is ill-defined and being set to 0.0 due to no predicted samples. Use `zero_division` parameter to control this behavior.\n",
            "  _warn_prf(average, modifier, msg_start, len(result))\n",
            "/usr/local/lib/python3.7/dist-packages/sklearn/metrics/_classification.py:1308: UndefinedMetricWarning: Precision is ill-defined and being set to 0.0 due to no predicted samples. Use `zero_division` parameter to control this behavior.\n",
            "  _warn_prf(average, modifier, msg_start, len(result))\n",
            "/usr/local/lib/python3.7/dist-packages/sklearn/metrics/_classification.py:1308: UndefinedMetricWarning: Precision is ill-defined and being set to 0.0 due to no predicted samples. Use `zero_division` parameter to control this behavior.\n",
            "  _warn_prf(average, modifier, msg_start, len(result))\n",
            "/usr/local/lib/python3.7/dist-packages/sklearn/metrics/_classification.py:1308: UndefinedMetricWarning: Precision is ill-defined and being set to 0.0 due to no predicted samples. Use `zero_division` parameter to control this behavior.\n",
            "  _warn_prf(average, modifier, msg_start, len(result))\n",
            "/usr/local/lib/python3.7/dist-packages/sklearn/metrics/_classification.py:1308: UndefinedMetricWarning: Precision is ill-defined and being set to 0.0 due to no predicted samples. Use `zero_division` parameter to control this behavior.\n",
            "  _warn_prf(average, modifier, msg_start, len(result))\n",
            "/usr/local/lib/python3.7/dist-packages/sklearn/metrics/_classification.py:1308: UndefinedMetricWarning: Precision is ill-defined and being set to 0.0 due to no predicted samples. Use `zero_division` parameter to control this behavior.\n",
            "  _warn_prf(average, modifier, msg_start, len(result))\n"
          ]
        }
      ]
    },
    {
      "cell_type": "code",
      "metadata": {
        "colab": {
          "base_uri": "https://localhost:8080/"
        },
        "id": "WvUn_6zMa0x2",
        "outputId": "e62bb3b0-035c-4f06-befd-cdab1cdc48b6"
      },
      "source": [
        "f1s = cross_val_score(gnb, x,y, cv=5, scoring='f1')\n",
        "print( 'F1', np.mean(f1s), f1s)"
      ],
      "execution_count": null,
      "outputs": [
        {
          "output_type": "stream",
          "name": "stdout",
          "text": [
            "F1 0.25878466238181164 [0.46666667 0.10810811 0.12903226 0.46511628 0.125     ]\n"
          ]
        }
      ]
    },
    {
      "cell_type": "code",
      "metadata": {
        "colab": {
          "base_uri": "https://localhost:8080/"
        },
        "id": "Uv0p2cVpbKOX",
        "outputId": "0c7e4153-047a-477f-b7a3-a68095ae2ee7"
      },
      "source": [
        "recalls = cross_val_score(gnb, x,y, cv=5, scoring='recall')\n",
        "print ('Recalls', np.mean(recalls), recalls)"
      ],
      "execution_count": null,
      "outputs": [
        {
          "output_type": "stream",
          "name": "stdout",
          "text": [
            "Recalls 0.2174603174603174 [0.5        0.07142857 0.07142857 0.37037037 0.07407407]\n"
          ]
        }
      ]
    },
    {
      "cell_type": "code",
      "metadata": {
        "colab": {
          "base_uri": "https://localhost:8080/"
        },
        "id": "WoCLAXbKbTdF",
        "outputId": "e6dc24ee-3a36-47d8-bfc2-885de5a61e54"
      },
      "source": [
        "from sklearn.metrics import classification_report,confusion_matrix\n",
        "print(confusion_matrix(y_test,y_pred))\n",
        "print(classification_report(y_test,y_pred))"
      ],
      "execution_count": null,
      "outputs": [
        {
          "output_type": "stream",
          "name": "stdout",
          "text": [
            "[[82  2]\n",
            " [26  6]]\n",
            "              precision    recall  f1-score   support\n",
            "\n",
            "           0       0.76      0.98      0.85        84\n",
            "           1       0.75      0.19      0.30        32\n",
            "\n",
            "    accuracy                           0.76       116\n",
            "   macro avg       0.75      0.58      0.58       116\n",
            "weighted avg       0.76      0.76      0.70       116\n",
            "\n"
          ]
        }
      ]
    },
    {
      "cell_type": "code",
      "metadata": {
        "id": "k6YYiiLxcA56"
      },
      "source": [
        ""
      ],
      "execution_count": null,
      "outputs": []
    },
    {
      "cell_type": "markdown",
      "metadata": {
        "id": "6Mp7j26xeOUv"
      },
      "source": [
        "## Decision Tree"
      ]
    },
    {
      "cell_type": "code",
      "metadata": {
        "id": "3lbKCg_WcA9H"
      },
      "source": [
        "from sklearn.tree import DecisionTreeClassifier"
      ],
      "execution_count": null,
      "outputs": []
    },
    {
      "cell_type": "code",
      "metadata": {
        "colab": {
          "base_uri": "https://localhost:8080/"
        },
        "id": "hwFWUe6OeR5y",
        "outputId": "1b3f67bb-8cab-4c34-c779-cb040798e79a"
      },
      "source": [
        "model1 = DecisionTreeClassifier(random_state=0)\n",
        "model1.fit(x_train,y_train)"
      ],
      "execution_count": null,
      "outputs": [
        {
          "output_type": "execute_result",
          "data": {
            "text/plain": [
              "DecisionTreeClassifier(random_state=0)"
            ]
          },
          "metadata": {},
          "execution_count": 77
        }
      ]
    },
    {
      "cell_type": "code",
      "metadata": {
        "id": "zvVYAvpMeXEb"
      },
      "source": [
        "y_pred1 = model1.predict(x_test)"
      ],
      "execution_count": null,
      "outputs": []
    },
    {
      "cell_type": "code",
      "metadata": {
        "colab": {
          "base_uri": "https://localhost:8080/",
          "height": 52
        },
        "id": "NTARLIpTebjy",
        "outputId": "b1a249d8-c1de-451b-a62f-07db7cb463b5"
      },
      "source": [
        "classification_report(y_test,y_pred1)"
      ],
      "execution_count": null,
      "outputs": [
        {
          "output_type": "execute_result",
          "data": {
            "application/vnd.google.colaboratory.intrinsic+json": {
              "type": "string"
            },
            "text/plain": [
              "'              precision    recall  f1-score   support\\n\\n           0       0.76      0.83      0.80        84\\n           1       0.42      0.31      0.36        32\\n\\n    accuracy                           0.69       116\\n   macro avg       0.59      0.57      0.58       116\\nweighted avg       0.67      0.69      0.67       116\\n'"
            ]
          },
          "metadata": {},
          "execution_count": 85
        }
      ]
    },
    {
      "cell_type": "code",
      "metadata": {
        "colab": {
          "base_uri": "https://localhost:8080/"
        },
        "id": "eJPaRFjYee_v",
        "outputId": "2b6a6c86-01b6-4db2-c8e5-f3c5cae9325e"
      },
      "source": [
        "from sklearn.model_selection import cross_val_score\n",
        "scores = cross_val_score(model1, x, y, cv=20)\n",
        "print( np.mean(scores), scores)"
      ],
      "execution_count": null,
      "outputs": [
        {
          "output_type": "stream",
          "name": "stdout",
          "text": [
            "0.6654556650246306 [0.4137931  0.55172414 0.55172414 0.62068966 0.75862069 0.5862069\n",
            " 0.79310345 0.5862069  0.65517241 0.79310345 0.75862069 0.72413793\n",
            " 0.68965517 0.48275862 0.79310345 0.5862069  0.78571429 0.64285714\n",
            " 0.75       0.78571429]\n"
          ]
        }
      ]
    },
    {
      "cell_type": "code",
      "metadata": {
        "colab": {
          "base_uri": "https://localhost:8080/"
        },
        "id": "H3iOvOrjes6q",
        "outputId": "7abc0425-1ad0-489e-db4c-5417b70cee32"
      },
      "source": [
        "from sklearn.metrics import make_scorer, precision_score\n",
        "precision = make_scorer(precision_score)\n",
        "accuracy = cross_val_score(model1, x,y, cv=27,scoring=precision)\n",
        "print( np.mean(accuracy), accuracy)"
      ],
      "execution_count": null,
      "outputs": [
        {
          "output_type": "stream",
          "name": "stdout",
          "text": [
            "0.3475308641975308 [0.28571429 0.25       0.44444444 0.33333333 0.33333333 0.625\n",
            " 0.2        0.22222222 0.5        0.375      0.25       0.5\n",
            " 0.5        1.         0.         0.25       0.         0.\n",
            " 0.28571429 0.6        0.33333333 0.33333333 0.42857143 0.33333333\n",
            " 0.5        0.5        0.        ]\n"
          ]
        }
      ]
    },
    {
      "cell_type": "code",
      "metadata": {
        "colab": {
          "base_uri": "https://localhost:8080/"
        },
        "id": "e7SV_8Hye-gE",
        "outputId": "ed8d9d9c-c375-428f-baa9-b42bd8f080ea"
      },
      "source": [
        "f1s = cross_val_score(model1, x,y, cv=5, scoring='f1')\n",
        "print( 'F1', np.mean(f1s), f1s)"
      ],
      "execution_count": null,
      "outputs": [
        {
          "output_type": "stream",
          "name": "stdout",
          "text": [
            "F1 0.30906680087252597 [0.41818182 0.40740741 0.13953488 0.27586207 0.30434783]\n"
          ]
        }
      ]
    },
    {
      "cell_type": "code",
      "metadata": {
        "colab": {
          "base_uri": "https://localhost:8080/"
        },
        "id": "Y1JbbBSFfKM2",
        "outputId": "4a66a183-630a-4e35-b9b8-d6b87768e63e"
      },
      "source": [
        "recalls = cross_val_score(model1, x,y, cv=5, scoring='recall')\n",
        "print ('Recalls', np.mean(recalls), recalls)"
      ],
      "execution_count": null,
      "outputs": [
        {
          "output_type": "stream",
          "name": "stdout",
          "text": [
            "Recalls 0.3753968253968254 [0.82142857 0.39285714 0.10714286 0.2962963  0.25925926]\n"
          ]
        }
      ]
    },
    {
      "cell_type": "code",
      "metadata": {
        "colab": {
          "base_uri": "https://localhost:8080/"
        },
        "id": "qwZZYb2bfPm3",
        "outputId": "1138bac1-41d1-4ac3-b897-ec3e7a1d4307"
      },
      "source": [
        "from sklearn.metrics import classification_report,confusion_matrix\n",
        "print(confusion_matrix(y_test,y_pred))\n",
        "print(classification_report(y_test,y_pred1))"
      ],
      "execution_count": null,
      "outputs": [
        {
          "output_type": "stream",
          "name": "stdout",
          "text": [
            "[[82  2]\n",
            " [26  6]]\n",
            "              precision    recall  f1-score   support\n",
            "\n",
            "           0       0.76      0.83      0.80        84\n",
            "           1       0.42      0.31      0.36        32\n",
            "\n",
            "    accuracy                           0.69       116\n",
            "   macro avg       0.59      0.57      0.58       116\n",
            "weighted avg       0.67      0.69      0.67       116\n",
            "\n"
          ]
        }
      ]
    },
    {
      "cell_type": "code",
      "metadata": {
        "id": "BAp0X4QwfZeg"
      },
      "source": [
        ""
      ],
      "execution_count": null,
      "outputs": []
    }
  ]
}